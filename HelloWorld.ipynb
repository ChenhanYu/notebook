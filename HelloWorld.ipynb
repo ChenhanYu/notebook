{
 "cells": [
  {
   "cell_type": "code",
   "execution_count": null,
   "metadata": {
    "collapsed": true
   },
   "outputs": [],
   "source": [
    "12345"
   ]
  },
  {
   "cell_type": "code",
   "execution_count": 2,
   "metadata": {
    "collapsed": false
   },
   "outputs": [
    {
     "name": "stdout",
     "output_type": "stream",
     "text": [
      "10\n"
     ]
    }
   ],
   "source": [
    "a = 10\n",
    "print(a)"
   ]
  },
  {
   "cell_type": "markdown",
   "metadata": {},
   "source": [
    "A First Level Header\n",
    "====================\n",
    "\n",
    "A Second Level Header\n",
    "---------------------\n",
    "\n",
    "Now is the time for all good men to come to\n",
    "the aid of their country. This is just a\n",
    "regular paragraph.\n",
    "\n",
    "The quick brown fox jumped over the lazy\n",
    "dog's back.\n",
    "\n",
    "### Header 3\n",
    "\n",
    "> This is a blockquote.\n",
    "> \n",
    "> This is the second paragraph in the blockquote.\n",
    ">\n",
    "> ## This is an H2 in a blockquote"
   ]
  },
  {
   "cell_type": "code",
   "execution_count": 7,
   "metadata": {
    "collapsed": false
   },
   "outputs": [
    {
     "name": "stdout",
     "output_type": "stream",
     "text": [
      "Using matplotlib backend: MacOSX\n",
      "Populating the interactive namespace from numpy and matplotlib\n"
     ]
    },
    {
     "name": "stderr",
     "output_type": "stream",
     "text": [
      "/Users/chenhan/anaconda/lib/python2.7/site-packages/matplotlib/font_manager.py:273: UserWarning: Matplotlib is building the font cache using fc-list. This may take a moment.\n",
      "  warnings.warn('Matplotlib is building the font cache using fc-list. This may take a moment.')\n"
     ]
    }
   ],
   "source": [
    "pylab"
   ]
  },
  {
   "cell_type": "code",
   "execution_count": 9,
   "metadata": {
    "collapsed": false
   },
   "outputs": [
    {
     "data": {
      "text/plain": [
       "(array([   1.,    2.,    1.,    1.,    0.,    0.,    4.,    6.,    6.,\n",
       "           5.,   14.,    9.,   10.,   16.,   20.,   24.,   41.,   25.,\n",
       "          29.,   35.,   50.,   51.,   65.,   66.,   80.,   82.,   89.,\n",
       "         113.,  113.,  126.,  139.,  147.,  164.,  196.,  179.,  202.,\n",
       "         234.,  220.,  233.,  217.,  242.,  248.,  267.,  278.,  300.,\n",
       "         278.,  286.,  296.,  312.,  293.,  319.,  264.,  283.,  244.,\n",
       "         225.,  246.,  240.,  212.,  208.,  190.,  180.,  160.,  153.,\n",
       "         156.,  138.,  114.,  111.,   86.,   80.,   87.,   66.,   63.,\n",
       "          50.,   47.,   45.,   25.,   32.,   25.,   20.,   14.,   17.,\n",
       "          11.,   15.,   11.,    9.,    5.,    8.,   12.,    4.,    1.,\n",
       "           2.,    2.,    1.,    1.,    1.,    0.,    0.,    1.,    0.,    1.]),\n",
       " array([-3.42484954, -3.35216886, -3.27948818, -3.20680751, -3.13412683,\n",
       "        -3.06144615, -2.98876547, -2.91608479, -2.84340411, -2.77072343,\n",
       "        -2.69804275, -2.62536207, -2.55268139, -2.48000071, -2.40732004,\n",
       "        -2.33463936, -2.26195868, -2.189278  , -2.11659732, -2.04391664,\n",
       "        -1.97123596, -1.89855528, -1.8258746 , -1.75319392, -1.68051325,\n",
       "        -1.60783257, -1.53515189, -1.46247121, -1.38979053, -1.31710985,\n",
       "        -1.24442917, -1.17174849, -1.09906781, -1.02638713, -0.95370645,\n",
       "        -0.88102578, -0.8083451 , -0.73566442, -0.66298374, -0.59030306,\n",
       "        -0.51762238, -0.4449417 , -0.37226102, -0.29958034, -0.22689966,\n",
       "        -0.15421899, -0.08153831, -0.00885763,  0.06382305,  0.13650373,\n",
       "         0.20918441,  0.28186509,  0.35454577,  0.42722645,  0.49990713,\n",
       "         0.5725878 ,  0.64526848,  0.71794916,  0.79062984,  0.86331052,\n",
       "         0.9359912 ,  1.00867188,  1.08135256,  1.15403324,  1.22671392,\n",
       "         1.2993946 ,  1.37207527,  1.44475595,  1.51743663,  1.59011731,\n",
       "         1.66279799,  1.73547867,  1.80815935,  1.88084003,  1.95352071,\n",
       "         2.02620139,  2.09888206,  2.17156274,  2.24424342,  2.3169241 ,\n",
       "         2.38960478,  2.46228546,  2.53496614,  2.60764682,  2.6803275 ,\n",
       "         2.75300818,  2.82568886,  2.89836953,  2.97105021,  3.04373089,\n",
       "         3.11641157,  3.18909225,  3.26177293,  3.33445361,  3.40713429,\n",
       "         3.47981497,  3.55249565,  3.62517632,  3.697857  ,  3.77053768,\n",
       "         3.84321836]),\n",
       " <a list of 100 Patch objects>)"
      ]
     },
     "execution_count": 9,
     "metadata": {},
     "output_type": "execute_result"
    }
   ],
   "source": [
    "x = randn(10000)\n",
    "hist(x, 100)"
   ]
  },
  {
   "cell_type": "code",
   "execution_count": null,
   "metadata": {
    "collapsed": false
   },
   "outputs": [],
   "source": []
  },
  {
   "cell_type": "code",
   "execution_count": null,
   "metadata": {
    "collapsed": true
   },
   "outputs": [],
   "source": []
  }
 ],
 "metadata": {
  "kernelspec": {
   "display_name": "Python 2",
   "language": "python",
   "name": "python2"
  },
  "language_info": {
   "codemirror_mode": {
    "name": "ipython",
    "version": 2
   },
   "file_extension": ".py",
   "mimetype": "text/x-python",
   "name": "python",
   "nbconvert_exporter": "python",
   "pygments_lexer": "ipython2",
   "version": "2.7.10"
  }
 },
 "nbformat": 4,
 "nbformat_minor": 0
}
